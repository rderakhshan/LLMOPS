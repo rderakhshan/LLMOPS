{
 "cells": [
  {
   "cell_type": "markdown",
   "metadata": {},
   "source": [
    "# text_vectorization_openai\n",
    "\n",
    "This notebook provides a comprehensive visualization of text vectorization and demonstrates the power of vector search in processing and understanding natural language data. Moreover, it demonstrates the main steps of RAG in a simplified format. </br>\n",
    "\n",
    "------------------------------------------------------------------------------------\n",
    "### Dependencies:\n",
    "To achieve our goals, we rely on the following libraries and models:\n",
    "\n",
    ">- **text-embedding-ada-002**: This is the embedding model we use, which has an embedding dimension of **1536**. It is designed to capture the semantic meaning of text in a high-dimensional space.\n",
    ">- **gpt 3.5 turbo**\n",
    ">- **sklearn.metrics.pairwise.cosine_similarity**: : A function from the scikit-learn library that allows us to compute the similarity between vectors.\n",
    ">- **sklearn.decomposition.PCA**: Another scikit-learn tool that we use to perform Principal Component Analysis (PCA), reducing the dimensionality of our embeddings to 2 and 3 dimensions for visualization purposes.\n",
    ">- **matplotlib**: A plotting library that enables us to create 2D and 3D plots to visually represent our data.\n",
    ">- **mplcursors**: An interactive data cursor for matplotlib, which allows us to explore the plots more intuitively.\n",
    "------------------------------------------------------------------------------------\n",
    "\n",
    "### Content Overview:\n",
    "#### Text embedding explanation\n",
    "\n",
    "**I. [Define functions](#emb_1)** </br>\n",
    "We define three key functions to streamline our analysis:\n",
    "\n",
    ">- plot_2D: A function to generate 2D plots of our vectorized text data.\n",
    ">- get_embedding: This function utilizes our embedding model to convert text into numerical vectors.\n",
    ">- compute_cosine_similarity: A utility to compare different text examples based on their vector representations using cosine similarity.\n",
    "\n",
    "\n",
    "**II. [Define examples](#emb_2)** </br>\n",
    ">- We introduce 12 examples spanning 4 distinct categories: animals, sports, modern society, and programming. These examples will serve as the basis for our vectorization and visualization.\n",
    "\n",
    "**III. [Embedding](#emb_3)** </br>\n",
    ">- Here, we vectorize the examples using our chosen embedding model, transforming the text data into vectors.\n",
    "\n",
    "**IV. [Apply PCA](#emb_4)** </br>\n",
    ">- We apply PCA to reduce the dimensionality of our embeddings from 1536 to 3 dimensions, making it possible to visualize the data in a lower-dimensional space.\n",
    "\n",
    "**V. [Plot 2D](#emb_5)** </br>\n",
    ">- In this section, we create 2D plots of our examples to observe how text vectorization distinguishes between different categories.\n",
    "\n",
    "**VI. [Plot 3D](#emb_6)** </br>\n",
    ">- We extend our visualization to 3D plots, providing another perspective on the separation between categories achieved through vectorization.\n",
    "\n",
    "**VII. [Computing cosine similarity](#emb_7)** </br>\n",
    ">- Finally, we compute the cosine similarity between selected examples to illustrate the effectiveness of vector search in identifying similar text data.\n",
    "------------------------------------------------------------------------------------\n",
    "\n",
    "#### Simple Retrieval Augmented Generation: (Main steps)</br>\n",
    "\n",
    "**I. [Step 1: Vectorize the user's query](#rag_1)**\n",
    "\n",
    "**II. [Step 2: Perfrom vector search between the user's query and the vector database](#rag_2)**\n",
    "\n",
    "**IV. [Step 3: Retrieve the top `n`` results.](#rag_3)**\n",
    "\n",
    "**V. [Step 4: Prepare the LLM's input using the retrieved content and the user's query](#rag_4)**\n",
    "\n",
    "**VI. [Step 5: Pass the input to the LLM and get the response](#rag_5)**\n",
    "\n",
    "------------------------------------------------------------------------------------\n",
    "\n",
    "Extra Read:\n",
    "[Deeplearning.ai](https://www.deeplearning.ai/courses/)"
   ]
  },
  {
   "cell_type": "markdown",
   "metadata": {},
   "source": [
    "**Load the libraries and OpenAI credentials**"
   ]
  },
  {
   "cell_type": "code",
   "execution_count": 8,
   "metadata": {},
   "outputs": [
    {
     "name": "stdout",
     "output_type": "stream",
     "text": [
      "\n",
      "\u001b[1m[\u001b[0m\u001b[34;49mnotice\u001b[0m\u001b[1;39;49m]\u001b[0m\u001b[39;49m A new release of pip is available: \u001b[0m\u001b[31;49m23.1.2\u001b[0m\u001b[39;49m -> \u001b[0m\u001b[32;49m24.3.1\u001b[0m\n",
      "\u001b[1m[\u001b[0m\u001b[34;49mnotice\u001b[0m\u001b[1;39;49m]\u001b[0m\u001b[39;49m To update, run: \u001b[0m\u001b[32;49mpip install --upgrade pip\u001b[0m\n"
     ]
    }
   ],
   "source": [
    "# !pip install mplcursors\n",
    "# !pip install -q scikit-learn"
   ]
  },
  {
   "cell_type": "code",
   "execution_count": 9,
   "metadata": {},
   "outputs": [],
   "source": [
    "# Import libraries\n",
    "import os\n",
    "import openai\n",
    "from dotenv import load_dotenv\n",
    "import numpy as np\n",
    "import matplotlib.pyplot as plt\n",
    "import mplcursors\n",
    "from sklearn.decomposition import PCA\n",
    "from langchain.embeddings.openai import OpenAIEmbeddings\n",
    "from sklearn.metrics.pairwise import cosine_similarity\n",
    "from typing import List\n",
    "\n",
    "# Loading openai credentials\n",
    "load_dotenv()\n",
    "openai.api_type = os.getenv(\"OPENAI_API_TYPE\")\n",
    "openai.api_base = os.getenv(\"OPENAI_API_BASE\")\n",
    "openai.api_version = os.getenv(\"OPENAI_API_VERSION\")\n",
    "openai.api_key = os.getenv(\"OPENAI_API_KEY\")"
   ]
  },
  {
   "cell_type": "markdown",
   "metadata": {},
   "source": [
    "**Load the embedding model libraries**"
   ]
  },
  {
   "cell_type": "code",
   "execution_count": 10,
   "metadata": {},
   "outputs": [
    {
     "name": "stderr",
     "output_type": "stream",
     "text": [
      "/Users/vahid/.pyenv/versions/3.11.4/lib/python3.11/site-packages/langchain_core/_api/deprecation.py:139: LangChainDeprecationWarning: The class `OpenAIEmbeddings` was deprecated in LangChain 0.0.9 and will be removed in 0.3.0. An updated version of the class exists in the langchain-openai package and should be used instead. To use it run `pip install -U langchain-openai` and import as `from langchain_openai import OpenAIEmbeddings`.\n",
      "  warn_deprecated(\n"
     ]
    }
   ],
   "source": [
    "embedding = OpenAIEmbeddings()"
   ]
  },
  {
   "cell_type": "markdown",
   "metadata": {},
   "source": [
    "<a id=emb_1></a>\n",
    "\n",
    "**Define functions:** plot_2D, get_embedding, compute_cosine_similarity"
   ]
  },
  {
   "cell_type": "code",
   "execution_count": 11,
   "metadata": {},
   "outputs": [],
   "source": [
    "def plot_2D(x_values: List[float], \n",
    "            y_values: List[float], \n",
    "            labels: List[str]) -> None:\n",
    "    \"\"\"\n",
    "    Plots a 2D scatter plot with interactive annotations.\n",
    "\n",
    "    Parameters:\n",
    "    x_values (List[float]): A list of x-coordinates for each point.\n",
    "    y_values (List[float]): A list of y-coordinates for each point.\n",
    "    labels (List[str]): A list of labels for each point.\n",
    "    \"\"\"\n",
    "    # Create scatter plot\n",
    "    fig, ax = plt.subplots()\n",
    "    scatter = ax.scatter(x_values, \n",
    "                         y_values, \n",
    "                         alpha = 0.5, \n",
    "                         edgecolors='k',\n",
    "                         s = 40) \n",
    "\n",
    "    # Create a mplcursors object to manage the data point interaction\n",
    "    cursor = mplcursors.cursor(scatter, hover=True)\n",
    "\n",
    "    #aes\n",
    "    ax.set_title('Embedding visualization in 2D')  # Add a title\n",
    "    ax.set_xlabel('X_1')  # Add x-axis label\n",
    "    ax.set_ylabel('X_2')  # Add y-axis label\n",
    "\n",
    "    # Define how each annotation should look\n",
    "    @cursor.connect(\"add\")\n",
    "    def on_add(sel):\n",
    "        sel.annotation.set_text(labels[sel.target.index])\n",
    "        sel.annotation.get_bbox_patch().set(facecolor='white', alpha=0.5) # Set annotation's background color\n",
    "        sel.annotation.set_fontsize(12) \n",
    "\n",
    "    plt.show()\n",
    "\n",
    "def get_embedding(text: str) -> List:\n",
    "    \"\"\"\n",
    "    Retrieves the embedding for a given text.\n",
    "\n",
    "    Parameters:\n",
    "    text (str): The text to get the embedding for.\n",
    "\n",
    "    Returns:\n",
    "    List: The embedding of the given text.\n",
    "    \"\"\"\n",
    "    return embedding.embed_query(text)\n",
    "\n",
    "def compute_cosine_similarity(embeddings: np.ndarray, idx1: int, idx2: int) -> float:\n",
    "    \"\"\"\n",
    "    Computes the cosine similarity between two embeddings.\n",
    "\n",
    "    Parameters:\n",
    "    embeddings (np.ndarray): An array of embeddings.\n",
    "    idx1 (int): The index of the first embedding.\n",
    "    idx2 (int): The index of the second embedding.\n",
    "\n",
    "    Returns:\n",
    "    float: The cosine similarity between the two embeddings.\n",
    "    \"\"\"\n",
    "    return cosine_similarity([embeddings[idx1]],[embeddings[idx2]])[0][0]"
   ]
  },
  {
   "cell_type": "markdown",
   "metadata": {},
   "source": [
    "<a id=emb_2></a>\n",
    "**Let's define 12 Examples in 4 different categories:** \n",
    "\n",
    "1. Animals\n",
    "2. Sport\n",
    "3. Moder society\n",
    "4. programming"
   ]
  },
  {
   "cell_type": "code",
   "execution_count": 12,
   "metadata": {},
   "outputs": [],
   "source": [
    "# Group one \n",
    "animal_sen_1 = \"Elephants are known for their exceptional memory and intelligence, often living in complex social structures.\"\n",
    "animal_sen_2 = \"The blue whale is the largest animal on the planet, with a heart the size of a small car.\"\n",
    "animal_sen_3 = \"Peregrine falcons are among the fastest birds, reaching over 200 miles per hour during their hunting stoop.\"\n",
    "\n",
    "\n",
    "sport_sen_1 = \"Soccer, known as football outside of North America, is the world's most popular sport, with a fan base that spans across continents.\"\n",
    "sport_sen_2 = \"The modern Olympic Games, revived in 1896, are a global event that brings together athletes from over 200 nations.\"\n",
    "sport_sen_3 = \"Serena Williams has dominated women's tennis with 23 Grand Slam singles titles, making her one of the greatest athletes of all time.\"\n",
    "\n",
    "\n",
    "modern_society_sen_1 = \"The advent of the internet has transformed modern society, enabling global connectivity and access to information at an unprecedented scale.\"\n",
    "modern_society_sen_2 = \"Climate change has become one of the most pressing issues of modern society, with a growing consensus on the need for sustainable practices.\"\n",
    "modern_society_sen_3 = \"Social media has reshaped the way we communicate and consume information, influencing everything from politics to personal relationships.\"\n",
    "\n",
    "\n",
    "programming_sen_1 = \"C++ programmers harness the power of low-level memory manipulation, crafting efficient and high-performance software for a variety of applications.\"\n",
    "programming_sen_2 = \"Java developers thrive in building platform-independent solutions, leveraging the language's 'write once, run anywhere' philosophy for versatile and scalable applications.\"\n",
    "programming_sen_3 = \"Python programmers embrace the language's readability and expressiveness, creating elegant and concise code that facilitates rapid development across diverse domains.\"\n",
    "\n",
    "# combine all the examples in one list\n",
    "all_input_text = [\n",
    "    animal_sen_1, animal_sen_2, animal_sen_3,\n",
    "    sport_sen_1, sport_sen_2, sport_sen_3, \n",
    "    modern_society_sen_1, modern_society_sen_2, modern_society_sen_3,\n",
    "    programming_sen_1, programming_sen_2, programming_sen_3\n",
    "    ]"
   ]
  },
  {
   "cell_type": "markdown",
   "metadata": {},
   "source": [
    "<a id=emb_3></a>\n",
    "\n",
    "**Apply Embedding**"
   ]
  },
  {
   "cell_type": "code",
   "execution_count": 13,
   "metadata": {},
   "outputs": [
    {
     "name": "stdout",
     "output_type": "stream",
     "text": [
      "Shape: (12, 1536) \n",
      "\n",
      "Sample array: [-0.02045491 -0.00225689  0.00741302 ... -0.01997746  0.00038204\n",
      " -0.02907411]\n"
     ]
    }
   ],
   "source": [
    "embeddings = []\n",
    "for input_text in all_input_text:\n",
    "    emb = get_embedding(input_text)\n",
    "    embeddings.append(emb)\n",
    "    \n",
    "embeddings_array = np.array(embeddings)\n",
    "print(\"Shape: \" + str(embeddings_array.shape), \"\\n\")\n",
    "print(\"Sample array:\", embeddings_array[0])"
   ]
  },
  {
   "cell_type": "markdown",
   "metadata": {},
   "source": [
    "<a id=emb_4></a>\n",
    "\n",
    "**Apply PCA**"
   ]
  },
  {
   "cell_type": "code",
   "execution_count": 14,
   "metadata": {},
   "outputs": [
    {
     "name": "stdout",
     "output_type": "stream",
     "text": [
      "Shape: (12, 3)\n",
      "[[-0.00488263 -0.18561928 -0.17714146]\n",
      " [ 0.1626858  -0.29699095 -0.21090473]\n",
      " [ 0.13651129 -0.28903919 -0.01654235]\n",
      " [ 0.173003    0.04363009  0.22152803]\n",
      " [ 0.15422932  0.04198942  0.25511295]\n",
      " [ 0.22536233  0.00603509  0.22542754]\n",
      " [ 0.03954305  0.26303692 -0.15677605]\n",
      " [ 0.08553538  0.18529625 -0.10315006]\n",
      " [ 0.0869928   0.28772568 -0.20706412]\n",
      " [-0.35653552 -0.03415696 -0.00272921]\n",
      " [-0.34067045  0.0046663   0.07604987]\n",
      " [-0.36177437 -0.02657337  0.09618959]]\n"
     ]
    }
   ],
   "source": [
    "# Perform PCA for reducing the dimension from 1536 to 3\n",
    "PCA_model = PCA(n_components=3)\n",
    "PCA_model.fit(embeddings_array)\n",
    "new_values = PCA_model.transform(embeddings_array)\n",
    "\n",
    "print(\"Shape: \" + str(new_values.shape))\n",
    "print(new_values)"
   ]
  },
  {
   "cell_type": "markdown",
   "metadata": {},
   "source": [
    "<a id=emb_5></a>\n",
    "\n",
    "**2D plot**"
   ]
  },
  {
   "cell_type": "code",
   "execution_count": 15,
   "metadata": {},
   "outputs": [
    {
     "data": {
      "image/png": "[encoded data removed]",
      "text/plain": [
       "<Figure size 640x480 with 1 Axes>"
      ]
     },
     "metadata": {},
     "output_type": "display_data"
    }
   ],
   "source": [
    "plot_2D(new_values[:,0], new_values[:,1], all_input_text)"
   ]
  },
  {
   "cell_type": "markdown",
   "metadata": {},
   "source": [
    "<a id=emb_6></a>\n",
    "\n",
    "**3D plot**"
   ]
  },
  {
   "cell_type": "code",
   "execution_count": 16,
   "metadata": {},
   "outputs": [
    {
     "data": {
      "text/plain": [
       "<mpl_toolkits.mplot3d.art3d.Path3DCollection at 0x12667da90>"
      ]
     },
     "execution_count": 16,
     "metadata": {},
     "output_type": "execute_result"
    },
    {
     "data": {
      "image/png": "[encoded data removed]",
      "text/plain": [
       "<Figure size 640x480 with 1 Axes>"
      ]
     },
     "metadata": {},
     "output_type": "display_data"
    }
   ],
   "source": [
    "fig = plt.figure()\n",
    "ax = plt.axes(projection='3d')\n",
    "ax.scatter3D(new_values[:, 0], new_values[:, 1], new_values[:, 2])"
   ]
  },
  {
   "cell_type": "markdown",
   "metadata": {},
   "source": [
    "<a id=emb_7></a>\n",
    "**Computing the cosine similarity**\n",
    "\n",
    "- animal_sen_1: 0, animal_sen_2: 1, animal_sen_3: 2 </br>\n",
    "- sport_sen_1: 3, sport_sen_2: 4, sport_sen_3: 5</br> \n",
    "- modern_society_sen_1: 6, modern_society_sen_2: 7, modern_society_sen_3: 8</br>\n",
    "- programming_sen_1: 9, programming_sen_2: 10, programming_sen_3: 11"
   ]
  },
  {
   "cell_type": "code",
   "execution_count": 17,
   "metadata": {},
   "outputs": [
    {
     "name": "stdout",
     "output_type": "stream",
     "text": [
      "animal_sen_1 vs animal_sen_2: 0.7936298430992275\n",
      "animal_sen_1 vs programming_sen_1: 0.753926591600932\n",
      "sport_sen_1 vs sport_sen_2: 0.8247985576275556\n",
      "sport_sen_1 vs programming_sen_11: 0.7380493887832311\n"
     ]
    }
   ],
   "source": [
    "print(\"animal_sen_1 vs animal_sen_2:\", compute_cosine_similarity(embeddings,0,1))\n",
    "print(\"animal_sen_1 vs programming_sen_1:\", compute_cosine_similarity(embeddings,0,10))\n",
    "\n",
    "print(\"sport_sen_1 vs sport_sen_2:\", compute_cosine_similarity(embeddings,3,4))\n",
    "print(\"sport_sen_1 vs programming_sen_11:\", compute_cosine_similarity(embeddings,3,11))"
   ]
  },
  {
   "cell_type": "markdown",
   "metadata": {},
   "source": [
    "## Simple RAG\n",
    "\n",
    "Let's consider `embeddings` list to be our Vector database and search a query over it and return the results "
   ]
  },
  {
   "cell_type": "markdown",
   "metadata": {},
   "source": [
    "<a id=rag_1></a>\n",
    "**Step 1: Vectorize the user's query** "
   ]
  },
  {
   "cell_type": "code",
   "execution_count": 18,
   "metadata": {},
   "outputs": [],
   "source": [
    "query = \"What are some remarkable characteristics of elephants?\"\n",
    "q_v = get_embedding(query)"
   ]
  },
  {
   "cell_type": "markdown",
   "metadata": {},
   "source": [
    "<a id=rag_2></a>\n",
    "**Step 2: Perfrom vector search between the user's query and the vector database** "
   ]
  },
  {
   "cell_type": "code",
   "execution_count": 19,
   "metadata": {},
   "outputs": [
    {
     "data": {
      "text/plain": [
       "[0.8979636450708526,\n",
       " 0.7961396732668061,\n",
       " 0.7479150855090576,\n",
       " 0.7158517698386552,\n",
       " 0.7308154772626785,\n",
       " 0.7253848239746694,\n",
       " 0.7331495880578893,\n",
       " 0.723085622912839,\n",
       " 0.7175419295901722,\n",
       " 0.7215906396062827,\n",
       " 0.7287541603050346,\n",
       " 0.7337037635451182]"
      ]
     },
     "execution_count": 19,
     "metadata": {},
     "output_type": "execute_result"
    }
   ],
   "source": [
    "def search(embeddings:List, q_v:List)->List[float]:\n",
    "    \"\"\"\n",
    "    Search for the cosine similarity scores between a query vector (q_v) and a list of embedding vectors.\n",
    "\n",
    "    Parameters:\n",
    "        embeddings (List[List[float]]): A list of embedding vectors.\n",
    "        q_v (List[float]): The query vector for which the cosine similarity scores are calculated.\n",
    "\n",
    "    Returns:\n",
    "        List[float]: A list of cosine similarity scores between the query vector and each embedding vector.\n",
    "    \"\"\"\n",
    "    scores = []\n",
    "    for vec in embeddings:\n",
    "        scores.append(cosine_similarity([vec], [q_v])[0][0])\n",
    "    return scores\n",
    "\n",
    "score_list = search(embeddings, q_v)\n",
    "score_list"
   ]
  },
  {
   "cell_type": "markdown",
   "metadata": {},
   "source": [
    "<a id=rag_3></a>\n",
    "**Step 3: Retrieve the top `n` results.**"
   ]
  },
  {
   "cell_type": "code",
   "execution_count": 20,
   "metadata": {},
   "outputs": [
    {
     "name": "stdout",
     "output_type": "stream",
     "text": [
      "Elephants are known for their exceptional memory and intelligence, often living in complex social structures. \n",
      "\n",
      "The blue whale is the largest animal on the planet, with a heart the size of a small car. \n",
      "\n",
      "Peregrine falcons are among the fastest birds, reaching over 200 miles per hour during their hunting stoop. \n",
      "\n"
     ]
    }
   ],
   "source": [
    "n = 3\n",
    "sorted_indices = np.argsort(score_list)[::-1]\n",
    "top_n_indices = sorted_indices[:n]\n",
    "top_n_indices\n",
    "\n",
    "retrieved_content = []\n",
    "for i in top_n_indices:\n",
    "    print(all_input_text[i], \"\\n\")\n",
    "    retrieved_content.append(all_input_text[i])"
   ]
  },
  {
   "cell_type": "markdown",
   "metadata": {},
   "source": [
    "<a id=rag_4></a>\n",
    "\n",
    "**Step 4: Prepare the LLM's input using the retrieved content and the user's query**\n",
    "\n",
    "We want to Pass the retrieved content along with the user's query to a LLM to get the proper response. The role of the LLM is to see whether the retrieved content contain the answer to the user's question and provide a clean and organized response."
   ]
  },
  {
   "cell_type": "code",
   "execution_count": 21,
   "metadata": {},
   "outputs": [
    {
     "name": "stdout",
     "output_type": "stream",
     "text": [
      "# Retrieved content: ['Elephants are known for their exceptional memory and intelligence, often living in complex social structures.', 'The blue whale is the largest animal on the planet, with a heart the size of a small car.', 'Peregrine falcons are among the fastest birds, reaching over 200 miles per hour during their hunting stoop.']\n",
      "\n",
      "# User's query: What are some remarkable characteristics of elephants?\n"
     ]
    }
   ],
   "source": [
    "gpt_model = \"gpt-35-turbo\"\n",
    "temperature= 0\n",
    "# prompt = \"I have a chatbot in streamlit code. i want to change the avatar of user and chatbot. Give me the code\"\n",
    "llm_system_role = \"As a helpful chatbot, your role is to assist users by analyzing their questions alongside retrieved content.\\\n",
    "        Dispense answers exclusively from the provided content and refrain from incorporating personal knowledge if the answer is\\\n",
    "        absent in the retrieved information.\"\n",
    "prompt = f\"# Retrieved content: {retrieved_content}\\n\\n# User's query: {query}\"\n",
    "print(prompt)"
   ]
  },
  {
   "cell_type": "markdown",
   "metadata": {},
   "source": [
    "<a id=rag_5></a>\n",
    "\n",
    "**Step 5: Pass the input to the LLM and get the response**"
   ]
  },
  {
   "cell_type": "code",
   "execution_count": 22,
   "metadata": {},
   "outputs": [
    {
     "ename": "APIRemovedInV1",
     "evalue": "\n\nYou tried to access openai.ChatCompletion, but this is no longer supported in openai>=1.0.0 - see the README at https://github.com/openai/openai-python for the API.\n\nYou can run `openai migrate` to automatically upgrade your codebase to use the 1.0.0 interface. \n\nAlternatively, you can pin your installation to the old version, e.g. `pip install openai==0.28`\n\nA detailed migration guide is available here: https://github.com/openai/openai-python/discussions/742\n",
     "output_type": "error",
     "traceback": [
      "\u001b[0;31m---------------------------------------------------------------------------\u001b[0m",
      "\u001b[0;31mAPIRemovedInV1\u001b[0m                            Traceback (most recent call last)",
      "Cell \u001b[0;32mIn[22], line 4\u001b[0m\n\u001b[1;32m      1\u001b[0m gpt_model \u001b[38;5;241m=\u001b[39m \u001b[38;5;124m\"\u001b[39m\u001b[38;5;124mgpt-35-turbo\u001b[39m\u001b[38;5;124m\"\u001b[39m\n\u001b[1;32m      2\u001b[0m temperature\u001b[38;5;241m=\u001b[39m \u001b[38;5;241m0\u001b[39m\n\u001b[0;32m----> 4\u001b[0m response \u001b[38;5;241m=\u001b[39m \u001b[43mopenai\u001b[49m\u001b[38;5;241;43m.\u001b[39;49m\u001b[43mChatCompletion\u001b[49m\u001b[38;5;241;43m.\u001b[39;49m\u001b[43mcreate\u001b[49m\u001b[43m(\u001b[49m\n\u001b[1;32m      5\u001b[0m \u001b[43m            \u001b[49m\u001b[43mengine\u001b[49m\u001b[38;5;241;43m=\u001b[39;49m\u001b[43mgpt_model\u001b[49m\u001b[43m,\u001b[49m\n\u001b[1;32m      6\u001b[0m \u001b[43m            \u001b[49m\u001b[43mmessages\u001b[49m\u001b[38;5;241;43m=\u001b[39;49m\u001b[43m[\u001b[49m\n\u001b[1;32m      7\u001b[0m \u001b[43m                \u001b[49m\u001b[43m{\u001b[49m\u001b[38;5;124;43m\"\u001b[39;49m\u001b[38;5;124;43mrole\u001b[39;49m\u001b[38;5;124;43m\"\u001b[39;49m\u001b[43m:\u001b[49m\u001b[43m \u001b[49m\u001b[38;5;124;43m\"\u001b[39;49m\u001b[38;5;124;43msystem\u001b[39;49m\u001b[38;5;124;43m\"\u001b[39;49m\u001b[43m,\u001b[49m\u001b[43m \u001b[49m\u001b[38;5;124;43m\"\u001b[39;49m\u001b[38;5;124;43mcontent\u001b[39;49m\u001b[38;5;124;43m\"\u001b[39;49m\u001b[43m:\u001b[49m\u001b[43m \u001b[49m\u001b[43mllm_system_role\u001b[49m\u001b[43m}\u001b[49m\u001b[43m,\u001b[49m\n\u001b[1;32m      8\u001b[0m \u001b[43m                \u001b[49m\u001b[43m{\u001b[49m\u001b[38;5;124;43m\"\u001b[39;49m\u001b[38;5;124;43mrole\u001b[39;49m\u001b[38;5;124;43m\"\u001b[39;49m\u001b[43m:\u001b[49m\u001b[43m \u001b[49m\u001b[38;5;124;43m\"\u001b[39;49m\u001b[38;5;124;43muser\u001b[39;49m\u001b[38;5;124;43m\"\u001b[39;49m\u001b[43m,\u001b[49m\u001b[43m \u001b[49m\u001b[38;5;124;43m\"\u001b[39;49m\u001b[38;5;124;43mcontent\u001b[39;49m\u001b[38;5;124;43m\"\u001b[39;49m\u001b[43m:\u001b[49m\u001b[43m \u001b[49m\u001b[43mprompt\u001b[49m\u001b[43m}\u001b[49m\n\u001b[1;32m      9\u001b[0m \u001b[43m            \u001b[49m\u001b[43m]\u001b[49m\u001b[43m,\u001b[49m\n\u001b[1;32m     10\u001b[0m \u001b[43m            \u001b[49m\u001b[43mtemperature\u001b[49m\u001b[38;5;241;43m=\u001b[39;49m\u001b[43mtemperature\u001b[49m\u001b[43m,\u001b[49m\n\u001b[1;32m     11\u001b[0m \u001b[43m            \u001b[49m\u001b[43mstream\u001b[49m\u001b[38;5;241;43m=\u001b[39;49m\u001b[38;5;28;43;01mFalse\u001b[39;49;00m\n\u001b[1;32m     12\u001b[0m \u001b[43m        \u001b[49m\u001b[43m)\u001b[49m\n",
      "File \u001b[0;32m~/.pyenv/versions/3.11.4/lib/python3.11/site-packages/openai/lib/_old_api.py:39\u001b[0m, in \u001b[0;36mAPIRemovedInV1Proxy.__call__\u001b[0;34m(self, *_args, **_kwargs)\u001b[0m\n\u001b[1;32m     38\u001b[0m \u001b[38;5;28;01mdef\u001b[39;00m \u001b[38;5;21m__call__\u001b[39m(\u001b[38;5;28mself\u001b[39m, \u001b[38;5;241m*\u001b[39m_args: Any, \u001b[38;5;241m*\u001b[39m\u001b[38;5;241m*\u001b[39m_kwargs: Any) \u001b[38;5;241m-\u001b[39m\u001b[38;5;241m>\u001b[39m Any:\n\u001b[0;32m---> 39\u001b[0m     \u001b[38;5;28;01mraise\u001b[39;00m APIRemovedInV1(symbol\u001b[38;5;241m=\u001b[39m\u001b[38;5;28mself\u001b[39m\u001b[38;5;241m.\u001b[39m_symbol)\n",
      "\u001b[0;31mAPIRemovedInV1\u001b[0m: \n\nYou tried to access openai.ChatCompletion, but this is no longer supported in openai>=1.0.0 - see the README at https://github.com/openai/openai-python for the API.\n\nYou can run `openai migrate` to automatically upgrade your codebase to use the 1.0.0 interface. \n\nAlternatively, you can pin your installation to the old version, e.g. `pip install openai==0.28`\n\nA detailed migration guide is available here: https://github.com/openai/openai-python/discussions/742\n"
     ]
    }
   ],
   "source": [
    "gpt_model = \"gpt-35-turbo\"\n",
    "temperature= 0\n",
    "\n",
    "response = openai.ChatCompletion.create(\n",
    "            engine=gpt_model,\n",
    "            messages=[\n",
    "                {\"role\": \"system\", \"content\": llm_system_role},\n",
    "                {\"role\": \"user\", \"content\": prompt}\n",
    "            ],\n",
    "            temperature=temperature,\n",
    "            stream=False\n",
    "        )"
   ]
  },
  {
   "cell_type": "code",
   "execution_count": 15,
   "metadata": {},
   "outputs": [
    {
     "data": {
      "text/plain": [
       "'Some remarkable characteristics of elephants include their exceptional memory and intelligence, as well as their ability to live in complex social structures.'"
      ]
     },
     "execution_count": 15,
     "metadata": {},
     "output_type": "execute_result"
    }
   ],
   "source": [
    "response.choices[0].message.content"
   ]
  }
 ],
 "metadata": {
  "kernelspec": {
   "display_name": "Python 3",
   "language": "python",
   "name": "python3"
  },
  "language_info": {
   "codemirror_mode": {
    "name": "ipython",
    "version": 3
   },
   "file_extension": ".py",
   "mimetype": "text/x-python",
   "name": "python",
   "nbconvert_exporter": "python",
   "pygments_lexer": "ipython3",
   "version": "3.11.4"
  }
 },
 "nbformat": 4,
 "nbformat_minor": 2
}
